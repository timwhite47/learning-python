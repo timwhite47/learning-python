{
 "cells": [
  {
   "cell_type": "code",
   "execution_count": 1,
   "metadata": {
    "collapsed": false,
    "deletable": true,
    "editable": true
   },
   "outputs": [
    {
     "name": "stdout",
     "output_type": "stream",
     "text": [
      "2\n"
     ]
    }
   ],
   "source": [
    "x = 1 + 1\n",
    "print x"
   ]
  },
  {
   "cell_type": "code",
   "execution_count": 3,
   "metadata": {
    "collapsed": false,
    "deletable": true,
    "editable": true
   },
   "outputs": [
    {
     "name": "stdout",
     "output_type": "stream",
     "text": [
      "Hello John Doe\n",
      "Hello Rick and Morty\n"
     ]
    }
   ],
   "source": [
    "def greet_person(name=\"John Doe\"):\n",
    "    print \"Hello \" + name\n",
    "    \n",
    "greet()\n",
    "greet(\"Rick Sanchez\")"
   ]
  },
  {
   "cell_type": "code",
   "execution_count": 7,
   "metadata": {
    "collapsed": false,
    "deletable": true,
    "editable": true
   },
   "outputs": [
    {
     "name": "stdout",
     "output_type": "stream",
     "text": [
      "Hello Rick\n",
      "Hello Morty\n"
     ]
    }
   ],
   "source": [
    "def greet_people(*names):\n",
    "    for name in names:\n",
    "        print \"Hello \" + name\n",
    "\n",
    "greet_people(\"Rick\", \"Morty\")"
   ]
  },
  {
   "cell_type": "code",
   "execution_count": 13,
   "metadata": {
    "collapsed": false,
    "deletable": true,
    "editable": true
   },
   "outputs": [
    {
     "name": "stdout",
     "output_type": "stream",
     "text": [
      "You sunk my battleship!\n"
     ]
    }
   ],
   "source": [
    "def status_report(battleship):\n",
    "    if battleship['sunk']:\n",
    "        print \"You sunk my battleship!\"\n",
    "    else:\n",
    "        print \"You missed!\"\n",
    "    \n",
    "status_report({ \"sunk\": True })"
   ]
  },
  {
   "cell_type": "code",
   "execution_count": 15,
   "metadata": {
    "collapsed": false,
    "deletable": true,
    "editable": true
   },
   "outputs": [
    {
     "name": "stdout",
     "output_type": "stream",
     "text": [
      "You missed!\n",
      "You missed!\n",
      "You sunk my battleship!\n"
     ]
    }
   ],
   "source": [
    "def status_report(battleship):\n",
    "    if battleship['sunk']:\n",
    "        print \"You sunk my battleship!\"\n",
    "    else:\n",
    "        print \"You missed!\"\n",
    "    \n",
    "    \n",
    "battleships = [\n",
    "    { \"sunk\": False },\n",
    "    { \"sunk\": False },\n",
    "    { \"sunk\": True}\n",
    "]\n",
    "\n",
    "for battleship in battleships:\n",
    "    status_report(battleship)"
   ]
  },
  {
   "cell_type": "code",
   "execution_count": 21,
   "metadata": {
    "collapsed": false,
    "deletable": true,
    "editable": true
   },
   "outputs": [
    {
     "name": "stdout",
     "output_type": "stream",
     "text": [
      "Hello Jane Doe I am John Doe\n",
      "Hello, my name is Jane Doe, what is yours?\n",
      "I have no identity\n"
     ]
    }
   ],
   "source": [
    "class Person(object): \n",
    "    def __init__(self, name=None):\n",
    "        self.name = name\n",
    "    \n",
    "    def greet(self, person_b):\n",
    "        if self.name == None:\n",
    "            print \"I have no identity\"\n",
    "            return \n",
    "        if person_b.name:\n",
    "            print \"Hello \" + person_b.name + \" I am \" + self.name\n",
    "        else:\n",
    "            print \"Hello, my name is \" + self.name + \", what is yours?\"\n",
    "        \n",
    "person_a = Person(\"John Doe\")\n",
    "person_b = Person(\"Jane Doe\")\n",
    "person_c = Person()\n",
    "\n",
    "person_a.greet(person_b)\n",
    "person_b.greet(person_c)\n",
    "person_c.greet(person_a)"
   ]
  },
  {
   "cell_type": "code",
   "execution_count": 30,
   "metadata": {
    "collapsed": false,
    "deletable": true,
    "editable": true
   },
   "outputs": [
    {
     "name": "stdout",
     "output_type": "stream",
     "text": [
      "Rick Sanchez is buying Cigarettes\n",
      "Morty Smith cannot buy Cigarettes\n"
     ]
    }
   ],
   "source": [
    "class Person(object):\n",
    "    def __init__(self, name, age):\n",
    "        self.age = age\n",
    "        self.name = name\n",
    "        \n",
    "\n",
    "    def buy(self, item):\n",
    "        if (item == 'Cigarettes') and (self.age < 18):\n",
    "            raise ValueError(\"You must be at least 18 to buy Cigarettes\")\n",
    "        else: \n",
    "            print self.name + \" is buying \" + item\n",
    "\n",
    "def buy_cigarettes(person):\n",
    "    item = \"Cigarettes\"\n",
    "    \n",
    "    try:\n",
    "        person.buy(item)\n",
    "    except ValueError:\n",
    "        print person.name + \" cannot buy \" + item\n",
    "\n",
    "rick = Person(\"Rick Sanchez\", 60)\n",
    "morty = Person(\"Morty Smith\", 14)\n",
    "\n",
    "buy_cigarettes(rick)\n",
    "buy_cigarettes(morty)"
   ]
  },
  {
   "cell_type": "code",
   "execution_count": null,
   "metadata": {
    "collapsed": true
   },
   "outputs": [],
   "source": []
  }
 ],
 "metadata": {
  "kernelspec": {
   "display_name": "Python 2",
   "language": "python",
   "name": "python2"
  },
  "language_info": {
   "codemirror_mode": {
    "name": "ipython",
    "version": 2
   },
   "file_extension": ".py",
   "mimetype": "text/x-python",
   "name": "python",
   "nbconvert_exporter": "python",
   "pygments_lexer": "ipython2",
   "version": "2.7.12"
  }
 },
 "nbformat": 4,
 "nbformat_minor": 2
}
